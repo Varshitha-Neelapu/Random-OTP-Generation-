{
  "nbformat": 4,
  "nbformat_minor": 0,
  "metadata": {
    "colab": {
      "provenance": [],
      "include_colab_link": true
    },
    "kernelspec": {
      "name": "python3",
      "display_name": "Python 3"
    },
    "language_info": {
      "name": "python"
    }
  },
  "cells": [
    {
      "cell_type": "markdown",
      "metadata": {
        "id": "view-in-github",
        "colab_type": "text"
      },
      "source": [
        "<a href=\"https://colab.research.google.com/github/Varshitha-Neelapu/Random-OTP-Generation-/blob/main/OTP_Generator.ipynb\" target=\"_parent\"><img src=\"https://colab.research.google.com/assets/colab-badge.svg\" alt=\"Open In Colab\"/></a>"
      ]
    },
    {
      "cell_type": "code",
      "source": [
        "import string\n",
        "import random\n",
        "import smtplib\n",
        "from email.mime.multipart import MIMEMultipart\n",
        "from email.mime.text import MIMEText\n",
        "\n",
        "# OTP Generation\n",
        "OTP = \"\".join([random.choice(string.digits) for i in range(6)])\n",
        "\n",
        "# Creating mail content\n",
        "sub = \"OTP Validation\"\n",
        "body = f\"\"\"\n",
        "This OTP is Sent as a part of small python project\n",
        "Don't Worry\n",
        "Enter This OTP: {OTP}\n",
        "\"\"\"\n",
        "msg = MIMEMultipart()\n",
        "msg[\"Subject\"] = sub\n",
        "msg.attach(MIMEText(body, \"plain\"))\n",
        "message = msg.as_string()\n",
        "\n",
        "# Sender email and password check\n",
        "smtp_server = \"smtp.gmail.com\"\n",
        "port = 587  # For starttls (security)\n",
        "sender_email = \"******@gmail.com\"  # Replace with your email\n",
        "password = \"*******\"  # Replace with your App Password\n",
        "server = smtplib.SMTP(smtp_server, port)\n",
        "server.starttls()\n",
        "server.login(sender_email, password)\n",
        "\n",
        "reciever_email = input(\"Enter your email:\")\n",
        "\n",
        "# Sending email with OTP\n",
        "server.sendmail(sender_email, reciever_email, message)\n",
        "print(\"OTP sent to your email, please check your email\")\n",
        "\n",
        "# OTP validation\n",
        "def authentication():\n",
        "    i = input(\"\\n\\nEnter your OTP:\")\n",
        "    if i == OTP:\n",
        "        print(\"OTP verified successfully\")\n",
        "    else:\n",
        "        for k in range(3):\n",
        "            print(f\"Invalid OTP \\nYou have {3-k} attempts left\")\n",
        "            i = input(\"Enter your OTP again:\")\n",
        "            if i == OTP:\n",
        "                print(\"OTP verified successfully\")\n",
        "                break\n",
        "            if k == 2 and i != OTP:\n",
        "                print(\"Reached max attempts\")\n",
        "        authentication()  # Call authentication() again\n",
        "\n",
        "    # Content for another email\n",
        "    subb = \"OTP Verified \\u263A\"\n",
        "    bod = \"\"\"\n",
        "    OTP verified successfully\n",
        "    Thank you \\u263A\n",
        "    \"\"\"\n",
        "    m = MIMEMultipart()\n",
        "    m[\"Subject\"] = subb\n",
        "    m.attach(MIMEText(bod, \"plain\"))\n",
        "    mes = m.as_string()\n",
        "    server.sendmail(sender_email, reciever_email, mes)\n",
        "\n",
        "authentication()"
      ],
      "metadata": {
        "colab": {
          "base_uri": "https://localhost:8080/"
        },
        "id": "Mqqf9B_w-gx6",
        "outputId": "28f537f8-0d90-4d86-b579-d6db411cd7fe"
      },
      "execution_count": 4,
      "outputs": [
        {
          "output_type": "stream",
          "name": "stdout",
          "text": [
            "Enter your email:pranathi.neelapu05@gmail.com\n",
            "OTP sent to your email, please check your email\n",
            "\n",
            "\n",
            "Enter your OTP:054965\n",
            "OTP verified successfully\n"
          ]
        }
      ]
    }
  ]
}
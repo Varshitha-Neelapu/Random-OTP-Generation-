{
  "nbformat": 4,
  "nbformat_minor": 0,
  "metadata": {
    "colab": {
      "provenance": [],
      "include_colab_link": true
    },
    "kernelspec": {
      "name": "python3",
      "display_name": "Python 3"
    },
    "language_info": {
      "name": "python"
    }
  },
  "cells": [
    {
      "cell_type": "markdown",
      "metadata": {
        "id": "view-in-github",
        "colab_type": "text"
      },
      "source": [
        "<a href=\"https://colab.research.google.com/github/Varshitha-Neelapu/Random-OTP-Generation-/blob/main/intern.ipynb\" target=\"_parent\"><img src=\"https://colab.research.google.com/assets/colab-badge.svg\" alt=\"Open In Colab\"/></a>"
      ]
    },
    {
      "cell_type": "markdown",
      "source": [
        "**Varshitha**"
      ],
      "metadata": {
        "id": "Vc73lYnmAPNg"
      }
    },
    {
      "cell_type": "code",
      "source": [
        "import string\n",
        "import random\n",
        "import smtplib\n",
        "from email.mime.multipart import MIMEMultipart\n",
        "from email.mime.text import MIMEText\n",
        "\n",
        "# OTP Generation\n",
        "OTP = \"\".join([random.choice(string.digits) for i in range(6)])\n",
        "\n",
        "# Creating mail content\n",
        "sub = \"OTP Validation\"\n",
        "body = f\"\"\"\n",
        "This OTP is Sent as a part of small python project\n",
        "Don't Worry\n",
        "Enter This OTP: {OTP}\n",
        "\"\"\"\n",
        "msg = MIMEMultipart()\n",
        "msg[\"Subject\"] = sub\n",
        "msg.attach(MIMEText(body, \"plain\"))\n",
        "message = msg.as_string()\n",
        "\n",
        "# Sender email and password check\n",
        "smtp_server = \"smtp.gmail.com\"\n",
        "port = 587  # For starttls (security)\n",
        "sender_email = \"varshitha.neelapu2001@gmail.com\"  # Replace with your email\n",
        "password = \"kxhj geim xwin lncf\"  # Replace with your App Password\n",
        "server = smtplib.SMTP(smtp_server, port)\n",
        "server.starttls()\n",
        "server.login(sender_email, password)\n",
        "\n",
        "reciever_email = input(\"Enter your email:\")\n",
        "\n",
        "# Sending email with OTP\n",
        "server.sendmail(sender_email, reciever_email, message)\n",
        "print(\"OTP sent to your email, please check your email\")\n",
        "\n",
        "# OTP validation\n",
        "def authentication():\n",
        "    i = input(\"\\n\\nEnter your OTP:\")\n",
        "    if i == OTP:\n",
        "        print(\"OTP verified successfully\")\n",
        "    else:\n",
        "        for k in range(3):\n",
        "            print(f\"Invalid OTP \\nYou have {3-k} attempts left\")\n",
        "            i = input(\"Enter your OTP again:\")\n",
        "            if i == OTP:\n",
        "                print(\"OTP verified successfully\")\n",
        "                break\n",
        "            if k == 2 and i != OTP:\n",
        "                print(\"Reached max attempts\")\n",
        "        authentication()  # Call authentication() again\n",
        "\n",
        "    # Content for another email\n",
        "    subb = \"OTP Verified \\u263A\"\n",
        "    bod = \"\"\"\n",
        "    OTP verified successfully\n",
        "    Thank you \\u263A\n",
        "    \"\"\"\n",
        "    m = MIMEMultipart()\n",
        "    m[\"Subject\"] = subb\n",
        "    m.attach(MIMEText(bod, \"plain\"))\n",
        "    mes = m.as_string()\n",
        "    server.sendmail(sender_email, reciever_email, mes)\n",
        "\n",
        "authentication()"
      ],
      "metadata": {
        "colab": {
          "base_uri": "https://localhost:8080/"
        },
        "id": "Mqqf9B_w-gx6",
        "outputId": "02b31ca6-1b5a-46a6-c10f-e686d7202505"
      },
      "execution_count": null,
      "outputs": [
        {
          "output_type": "stream",
          "name": "stdout",
          "text": [
            "Enter your email:bharathidhereddy27@gmail.com\n",
            "OTP sent to your email, please check your email\n",
            "\n",
            "\n",
            "Enter your OTP:533756\n",
            "Invalid OTP \n",
            "You have 3 attempts left\n",
            "Enter your OTP again:345642\n",
            "Invalid OTP \n",
            "You have 2 attempts left\n",
            "Enter your OTP again:537542\n",
            "OTP verified successfully\n",
            "\n",
            "\n",
            "Enter your OTP:537542\n",
            "OTP verified successfully\n"
          ]
        }
      ]
    },
    {
      "cell_type": "markdown",
      "source": [
        "**Ommika**"
      ],
      "metadata": {
        "id": "xhLLvpMSATML"
      }
    },
    {
      "cell_type": "code",
      "source": [
        "import string\n",
        "import random\n",
        "import smtplib\n",
        "from email.mime.multipart import MIMEMultipart\n",
        "from email.mime.text import MIMEText\n",
        "\n",
        "# OTP Generation\n",
        "OTP = \"\".join([random.choice(string.digits) for i in range(6)])\n",
        "\n",
        "# Creating mail content\n",
        "sub = \"OTP Validation\"\n",
        "body = f\"\"\"\n",
        "This OTP is Sent as a part of small python project\n",
        "Don't Worry\n",
        "Enter This OTP: {OTP}\n",
        "\"\"\"\n",
        "msg = MIMEMultipart()\n",
        "msg[\"Subject\"] = sub\n",
        "msg.attach(MIMEText(body, \"plain\"))\n",
        "message = msg.as_string()\n",
        "\n",
        "# Sender email and password check\n",
        "smtp_server = \"smtp.gmail.com\"\n",
        "port = 587  # For starttls (security)\n",
        "sender_email = \"ommikavattam@gmail.com\"  # Replace with your email\n",
        "password = \"qnij kvcg pdeo bkbq\"  # Replace with your App Password\n",
        "server = smtplib.SMTP(smtp_server, port)\n",
        "server.starttls()\n",
        "server.login(sender_email, password)\n",
        "\n",
        "reciever_email = input(\"Enter your email:\")\n",
        "\n",
        "# Sending email with OTP\n",
        "server.sendmail(sender_email, reciever_email, message)\n",
        "print(\"OTP sent to your email, please check your email\")\n",
        "\n",
        "# OTP validation\n",
        "def authentication():\n",
        "    i = input(\"\\n\\nEnter your OTP:\")\n",
        "    if i == OTP:\n",
        "        print(\"OTP verified successfully\")\n",
        "    else:\n",
        "        for k in range(3):\n",
        "            print(f\"Invalid OTP \\nYou have {3-k} attempts left\")\n",
        "            i = input(\"Enter your OTP again:\")\n",
        "            if i == OTP:\n",
        "                print(\"OTP verified successfully\")\n",
        "                break\n",
        "            if k == 2 and i != OTP:\n",
        "                print(\"Reached max attempts\")\n",
        "        authentication()  # Call authentication() again\n",
        "\n",
        "    # Content for another email\n",
        "    subb = \"OTP Verified \\u263A\"\n",
        "    bod = \"\"\"\n",
        "    OTP verified successfully\n",
        "    Thank you \\u263A\n",
        "    \"\"\"\n",
        "    m = MIMEMultipart()\n",
        "    m[\"Subject\"] = subb\n",
        "    m.attach(MIMEText(bod, \"plain\"))\n",
        "    mes = m.as_string()\n",
        "    server.sendmail(sender_email, reciever_email, mes)\n",
        "\n",
        "authentication()"
      ],
      "metadata": {
        "id": "eIjVT_V5AVEV",
        "colab": {
          "base_uri": "https://localhost:8080/"
        },
        "outputId": "0e89f610-1068-4485-a940-3f777fff91b6"
      },
      "execution_count": null,
      "outputs": [
        {
          "output_type": "stream",
          "name": "stdout",
          "text": [
            "Enter your email:varshitha.neelapu2001@gmail.com\n",
            "OTP sent to your email, please check your email\n",
            "\n",
            "\n",
            "Enter your OTP:852026\n",
            "OTP verified successfully\n"
          ]
        }
      ]
    },
    {
      "cell_type": "markdown",
      "source": [
        "**Satya**"
      ],
      "metadata": {
        "id": "-f24j9L8AXIX"
      }
    },
    {
      "cell_type": "code",
      "source": [
        "import string\n",
        "import random\n",
        "import smtplib\n",
        "from email.mime.multipart import MIMEMultipart\n",
        "from email.mime.text import MIMEText\n",
        "\n",
        "# OTP Generation\n",
        "OTP = \"\".join([random.choice(string.digits) for i in range(6)])\n",
        "\n",
        "# Creating mail content\n",
        "sub = \"OTP Validation\"\n",
        "body = f\"\"\"\n",
        "This OTP is Sent as a part of small python project\n",
        "Don't Worry\n",
        "Enter This OTP: {OTP}\n",
        "\"\"\"\n",
        "msg = MIMEMultipart()\n",
        "msg[\"Subject\"] = sub\n",
        "msg.attach(MIMEText(body, \"plain\"))\n",
        "message = msg.as_string()\n",
        "\n",
        "# Sender email and password check\n",
        "smtp_server = \"smtp.gmail.com\"\n",
        "port = 587  # For starttls (security)\n",
        "sender_email = \"sattisatyasri2799@gmail.com\"  # Replace with your email\n",
        "password = \"ktkj rrbb nhcz qyvw\"  # Replace with your App Password\n",
        "server = smtplib.SMTP(smtp_server, port)\n",
        "server.starttls()\n",
        "server.login(sender_email, password)\n",
        "\n",
        "reciever_email = input(\"Enter your email:\")\n",
        "\n",
        "# Sending email with OTP\n",
        "server.sendmail(sender_email, reciever_email, message)\n",
        "print(\"OTP sent to your email, please check your email\")\n",
        "\n",
        "# OTP validation\n",
        "def authentication():\n",
        "    i = input(\"\\n\\nEnter your OTP:\")\n",
        "    if i == OTP:\n",
        "        print(\"OTP verified successfully\")\n",
        "    else:\n",
        "        for k in range(3):\n",
        "            print(f\"Invalid OTP \\nYou have {3-k} attempts left\")\n",
        "            i = input(\"Enter your OTP again:\")\n",
        "            if i == OTP:\n",
        "                print(\"OTP verified successfully\")\n",
        "                break\n",
        "            if k == 2 and i != OTP:\n",
        "                print(\"Reached max attempts\")\n",
        "        authentication()  # Call authentication() again\n",
        "\n",
        "    # Content for another email\n",
        "    subb = \"OTP Verified \\u263A\"\n",
        "    bod = \"\"\"\n",
        "    OTP verified successfully\n",
        "    Thank you \\u263A\n",
        "    \"\"\"\n",
        "    m = MIMEMultipart()\n",
        "    m[\"Subject\"] = subb\n",
        "    m.attach(MIMEText(bod, \"plain\"))\n",
        "    mes = m.as_string()\n",
        "    server.sendmail(sender_email, reciever_email, mes)\n",
        "\n",
        "authentication()"
      ],
      "metadata": {
        "id": "g36d625EAZIb",
        "colab": {
          "base_uri": "https://localhost:8080/",
          "height": 872
        },
        "outputId": "8c44c042-d73a-4fd0-bd6c-186bea6de691"
      },
      "execution_count": null,
      "outputs": [
        {
          "output_type": "stream",
          "name": "stdout",
          "text": [
            "Enter your email:ommikavattam@gmail.com\n",
            "OTP sent to your email, please check your email\n",
            "\n",
            "\n",
            "Enter your OTP:1234\n",
            "Invalid OTP \n",
            "You have 3 attempts left\n",
            "Enter your OTP again:1234\n",
            "Invalid OTP \n",
            "You have 2 attempts left\n",
            "Enter your OTP again:`1234\n",
            "Invalid OTP \n",
            "You have 1 attempts left\n",
            "Enter your OTP again:1234\n",
            "Reached max attempts\n",
            "\n",
            "\n",
            "Enter your OTP:1245\n",
            "Invalid OTP \n",
            "You have 3 attempts left\n",
            "Enter your OTP again:8r837\n",
            "Invalid OTP \n",
            "You have 2 attempts left\n",
            "Enter your OTP again:4534\n",
            "Invalid OTP \n",
            "You have 1 attempts left\n",
            "Enter your OTP again:436\n",
            "Reached max attempts\n"
          ]
        },
        {
          "output_type": "error",
          "ename": "KeyboardInterrupt",
          "evalue": "ignored",
          "traceback": [
            "\u001b[0;31m---------------------------------------------------------------------------\u001b[0m",
            "\u001b[0;31mKeyboardInterrupt\u001b[0m                         Traceback (most recent call last)",
            "\u001b[0;32m<ipython-input-2-b9e4e40a128f>\u001b[0m in \u001b[0;36m<cell line: 65>\u001b[0;34m()\u001b[0m\n\u001b[1;32m     63\u001b[0m     \u001b[0mserver\u001b[0m\u001b[0;34m.\u001b[0m\u001b[0msendmail\u001b[0m\u001b[0;34m(\u001b[0m\u001b[0msender_email\u001b[0m\u001b[0;34m,\u001b[0m \u001b[0mreciever_email\u001b[0m\u001b[0;34m,\u001b[0m \u001b[0mmes\u001b[0m\u001b[0;34m)\u001b[0m\u001b[0;34m\u001b[0m\u001b[0;34m\u001b[0m\u001b[0m\n\u001b[1;32m     64\u001b[0m \u001b[0;34m\u001b[0m\u001b[0m\n\u001b[0;32m---> 65\u001b[0;31m \u001b[0mauthentication\u001b[0m\u001b[0;34m(\u001b[0m\u001b[0;34m)\u001b[0m\u001b[0;34m\u001b[0m\u001b[0;34m\u001b[0m\u001b[0m\n\u001b[0m",
            "\u001b[0;32m<ipython-input-2-b9e4e40a128f>\u001b[0m in \u001b[0;36mauthentication\u001b[0;34m()\u001b[0m\n\u001b[1;32m     49\u001b[0m             \u001b[0;32mif\u001b[0m \u001b[0mk\u001b[0m \u001b[0;34m==\u001b[0m \u001b[0;36m2\u001b[0m \u001b[0;32mand\u001b[0m \u001b[0mi\u001b[0m \u001b[0;34m!=\u001b[0m \u001b[0mOTP\u001b[0m\u001b[0;34m:\u001b[0m\u001b[0;34m\u001b[0m\u001b[0;34m\u001b[0m\u001b[0m\n\u001b[1;32m     50\u001b[0m                 \u001b[0mprint\u001b[0m\u001b[0;34m(\u001b[0m\u001b[0;34m\"Reached max attempts\"\u001b[0m\u001b[0;34m)\u001b[0m\u001b[0;34m\u001b[0m\u001b[0;34m\u001b[0m\u001b[0m\n\u001b[0;32m---> 51\u001b[0;31m         \u001b[0mauthentication\u001b[0m\u001b[0;34m(\u001b[0m\u001b[0;34m)\u001b[0m  \u001b[0;31m# Call authentication() again\u001b[0m\u001b[0;34m\u001b[0m\u001b[0;34m\u001b[0m\u001b[0m\n\u001b[0m\u001b[1;32m     52\u001b[0m \u001b[0;34m\u001b[0m\u001b[0m\n\u001b[1;32m     53\u001b[0m     \u001b[0;31m# Content for another email\u001b[0m\u001b[0;34m\u001b[0m\u001b[0;34m\u001b[0m\u001b[0m\n",
            "\u001b[0;32m<ipython-input-2-b9e4e40a128f>\u001b[0m in \u001b[0;36mauthentication\u001b[0;34m()\u001b[0m\n\u001b[1;32m     49\u001b[0m             \u001b[0;32mif\u001b[0m \u001b[0mk\u001b[0m \u001b[0;34m==\u001b[0m \u001b[0;36m2\u001b[0m \u001b[0;32mand\u001b[0m \u001b[0mi\u001b[0m \u001b[0;34m!=\u001b[0m \u001b[0mOTP\u001b[0m\u001b[0;34m:\u001b[0m\u001b[0;34m\u001b[0m\u001b[0;34m\u001b[0m\u001b[0m\n\u001b[1;32m     50\u001b[0m                 \u001b[0mprint\u001b[0m\u001b[0;34m(\u001b[0m\u001b[0;34m\"Reached max attempts\"\u001b[0m\u001b[0;34m)\u001b[0m\u001b[0;34m\u001b[0m\u001b[0;34m\u001b[0m\u001b[0m\n\u001b[0;32m---> 51\u001b[0;31m         \u001b[0mauthentication\u001b[0m\u001b[0;34m(\u001b[0m\u001b[0;34m)\u001b[0m  \u001b[0;31m# Call authentication() again\u001b[0m\u001b[0;34m\u001b[0m\u001b[0;34m\u001b[0m\u001b[0m\n\u001b[0m\u001b[1;32m     52\u001b[0m \u001b[0;34m\u001b[0m\u001b[0m\n\u001b[1;32m     53\u001b[0m     \u001b[0;31m# Content for another email\u001b[0m\u001b[0;34m\u001b[0m\u001b[0;34m\u001b[0m\u001b[0m\n",
            "\u001b[0;32m<ipython-input-2-b9e4e40a128f>\u001b[0m in \u001b[0;36mauthentication\u001b[0;34m()\u001b[0m\n\u001b[1;32m     37\u001b[0m \u001b[0;31m# OTP validation\u001b[0m\u001b[0;34m\u001b[0m\u001b[0;34m\u001b[0m\u001b[0m\n\u001b[1;32m     38\u001b[0m \u001b[0;32mdef\u001b[0m \u001b[0mauthentication\u001b[0m\u001b[0;34m(\u001b[0m\u001b[0;34m)\u001b[0m\u001b[0;34m:\u001b[0m\u001b[0;34m\u001b[0m\u001b[0;34m\u001b[0m\u001b[0m\n\u001b[0;32m---> 39\u001b[0;31m     \u001b[0mi\u001b[0m \u001b[0;34m=\u001b[0m \u001b[0minput\u001b[0m\u001b[0;34m(\u001b[0m\u001b[0;34m\"\\n\\nEnter your OTP:\"\u001b[0m\u001b[0;34m)\u001b[0m\u001b[0;34m\u001b[0m\u001b[0;34m\u001b[0m\u001b[0m\n\u001b[0m\u001b[1;32m     40\u001b[0m     \u001b[0;32mif\u001b[0m \u001b[0mi\u001b[0m \u001b[0;34m==\u001b[0m \u001b[0mOTP\u001b[0m\u001b[0;34m:\u001b[0m\u001b[0;34m\u001b[0m\u001b[0;34m\u001b[0m\u001b[0m\n\u001b[1;32m     41\u001b[0m         \u001b[0mprint\u001b[0m\u001b[0;34m(\u001b[0m\u001b[0;34m\"OTP verified successfully\"\u001b[0m\u001b[0;34m)\u001b[0m\u001b[0;34m\u001b[0m\u001b[0;34m\u001b[0m\u001b[0m\n",
            "\u001b[0;32m/usr/local/lib/python3.10/dist-packages/ipykernel/kernelbase.py\u001b[0m in \u001b[0;36mraw_input\u001b[0;34m(self, prompt)\u001b[0m\n\u001b[1;32m    849\u001b[0m                 \u001b[0;34m\"raw_input was called, but this frontend does not support input requests.\"\u001b[0m\u001b[0;34m\u001b[0m\u001b[0;34m\u001b[0m\u001b[0m\n\u001b[1;32m    850\u001b[0m             )\n\u001b[0;32m--> 851\u001b[0;31m         return self._input_request(str(prompt),\n\u001b[0m\u001b[1;32m    852\u001b[0m             \u001b[0mself\u001b[0m\u001b[0;34m.\u001b[0m\u001b[0m_parent_ident\u001b[0m\u001b[0;34m,\u001b[0m\u001b[0;34m\u001b[0m\u001b[0;34m\u001b[0m\u001b[0m\n\u001b[1;32m    853\u001b[0m             \u001b[0mself\u001b[0m\u001b[0;34m.\u001b[0m\u001b[0m_parent_header\u001b[0m\u001b[0;34m,\u001b[0m\u001b[0;34m\u001b[0m\u001b[0;34m\u001b[0m\u001b[0m\n",
            "\u001b[0;32m/usr/local/lib/python3.10/dist-packages/ipykernel/kernelbase.py\u001b[0m in \u001b[0;36m_input_request\u001b[0;34m(self, prompt, ident, parent, password)\u001b[0m\n\u001b[1;32m    893\u001b[0m             \u001b[0;32mexcept\u001b[0m \u001b[0mKeyboardInterrupt\u001b[0m\u001b[0;34m:\u001b[0m\u001b[0;34m\u001b[0m\u001b[0;34m\u001b[0m\u001b[0m\n\u001b[1;32m    894\u001b[0m                 \u001b[0;31m# re-raise KeyboardInterrupt, to truncate traceback\u001b[0m\u001b[0;34m\u001b[0m\u001b[0;34m\u001b[0m\u001b[0m\n\u001b[0;32m--> 895\u001b[0;31m                 \u001b[0;32mraise\u001b[0m \u001b[0mKeyboardInterrupt\u001b[0m\u001b[0;34m(\u001b[0m\u001b[0;34m\"Interrupted by user\"\u001b[0m\u001b[0;34m)\u001b[0m \u001b[0;32mfrom\u001b[0m \u001b[0;32mNone\u001b[0m\u001b[0;34m\u001b[0m\u001b[0;34m\u001b[0m\u001b[0m\n\u001b[0m\u001b[1;32m    896\u001b[0m             \u001b[0;32mexcept\u001b[0m \u001b[0mException\u001b[0m \u001b[0;32mas\u001b[0m \u001b[0me\u001b[0m\u001b[0;34m:\u001b[0m\u001b[0;34m\u001b[0m\u001b[0;34m\u001b[0m\u001b[0m\n\u001b[1;32m    897\u001b[0m                 \u001b[0mself\u001b[0m\u001b[0;34m.\u001b[0m\u001b[0mlog\u001b[0m\u001b[0;34m.\u001b[0m\u001b[0mwarning\u001b[0m\u001b[0;34m(\u001b[0m\u001b[0;34m\"Invalid Message:\"\u001b[0m\u001b[0;34m,\u001b[0m \u001b[0mexc_info\u001b[0m\u001b[0;34m=\u001b[0m\u001b[0;32mTrue\u001b[0m\u001b[0;34m)\u001b[0m\u001b[0;34m\u001b[0m\u001b[0;34m\u001b[0m\u001b[0m\n",
            "\u001b[0;31mKeyboardInterrupt\u001b[0m: Interrupted by user"
          ]
        }
      ]
    }
  ]
}